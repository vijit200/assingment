{
 "cells": [
  {
   "cell_type": "code",
   "execution_count": 1,
   "metadata": {},
   "outputs": [],
   "source": []
  },
  {
   "cell_type": "code",
   "execution_count": 6,
   "metadata": {},
   "outputs": [],
   "source": [
    "#1 Write a Python program to check if the given number is a Disarium Number?\n",
    "def check_disarium():\n",
    "    try:\n",
    "        x = input()\n",
    "        y =[]\n",
    "        for i in x:\n",
    "            y.append(int(i))\n",
    "        b =[]\n",
    "        count=1\n",
    "        for j in y:\n",
    "            a = j**count\n",
    "            count += 1 \n",
    "            b.append(a)\n",
    "        s = sum(b)\n",
    "        n = str(s)\n",
    "        if n == x :\n",
    "            print(\"disarium\")\n",
    "        else:\n",
    "            print(\"not disarium\")\n",
    "    except Exception as e:\n",
    "        ptint(e)"
   ]
  },
  {
   "cell_type": "code",
   "execution_count": 7,
   "metadata": {},
   "outputs": [
    {
     "name": "stdout",
     "output_type": "stream",
     "text": [
      "7\n",
      "disarium\n"
     ]
    }
   ],
   "source": [
    "check_disarium()"
   ]
  },
  {
   "cell_type": "code",
   "execution_count": 7,
   "metadata": {},
   "outputs": [
    {
     "name": "stdout",
     "output_type": "stream",
     "text": [
      "1\n",
      "2\n",
      "3\n",
      "4\n",
      "5\n",
      "6\n",
      "7\n",
      "8\n",
      "9\n",
      "89\n"
     ]
    }
   ],
   "source": [
    "#2 Write a Python program to print all disarium numbers between 1 to 100?\n",
    "def cal_len(n):\n",
    "    length = 0\n",
    "    while n!= 0:\n",
    "        length = length + 1\n",
    "        n = n //10\n",
    "    return length \n",
    "def sum_digit(x):\n",
    "    rem = sum = 0\n",
    "    len = cal_len(x)\n",
    "    while x > 0:\n",
    "            rem = x%10\n",
    "            sum = sum + rem**len\n",
    "            x = x//10\n",
    "            len = len -1\n",
    "    return sum\n",
    "y = range(1,101)\n",
    "r =0\n",
    "for i in y:\n",
    "    r = sum_digit(i)\n",
    "    if r == i:\n",
    "        print(i)"
   ]
  },
  {
   "cell_type": "code",
   "execution_count": 3,
   "metadata": {},
   "outputs": [
    {
     "name": "stdout",
     "output_type": "stream",
     "text": [
      "32\n",
      "is happy no\n"
     ]
    }
   ],
   "source": [
    "#3 Write a Python program to check if the given number is Happy Number?\n",
    "def is_happy(num):\n",
    "    rem = sum = 0\n",
    "    while num >0:\n",
    "        rem = num%10\n",
    "        sum = sum + (rem*rem)\n",
    "        num = num // 10\n",
    "    return sum \n",
    "n = int(input())\n",
    "result = n\n",
    "while (result != 1 and result != 4):\n",
    "    result =is_happy(result)\n",
    "if result == 1:\n",
    "    print(\"is happy no\")\n",
    "elif result == 4:\n",
    "    print(\"is not happy no\")"
   ]
  },
  {
   "cell_type": "code",
   "execution_count": 5,
   "metadata": {},
   "outputs": [
    {
     "name": "stdout",
     "output_type": "stream",
     "text": [
      "1 is happy no\n",
      "7 is happy no\n",
      "10 is happy no\n",
      "13 is happy no\n",
      "19 is happy no\n",
      "23 is happy no\n",
      "28 is happy no\n",
      "31 is happy no\n",
      "32 is happy no\n",
      "44 is happy no\n",
      "49 is happy no\n",
      "68 is happy no\n",
      "70 is happy no\n",
      "79 is happy no\n",
      "82 is happy no\n",
      "86 is happy no\n",
      "91 is happy no\n",
      "94 is happy no\n",
      "97 is happy no\n",
      "100 is happy no\n"
     ]
    }
   ],
   "source": [
    "#4 Write a Python program to print all happy numbers between 1 and 100?\n",
    "def is_happy(num):\n",
    "    rem = sum = 0\n",
    "    while num >0:\n",
    "        rem = num%10\n",
    "        sum = sum + (rem*rem)\n",
    "        num = num // 10\n",
    "    return sum \n",
    "for i in range (1,101):\n",
    "    result = i\n",
    "    while (result != 1 and result != 4):\n",
    "        result =is_happy(result)\n",
    "    if result == 1:\n",
    "        print(i ,\"is happy no\")\n",
    "    elif result == 4:\n",
    "        pass"
   ]
  },
  {
   "cell_type": "code",
   "execution_count": 17,
   "metadata": {},
   "outputs": [],
   "source": [
    "#4 Write a Python program to determine whether the given number is a Harshad Number?\n",
    "def harshad_no():\n",
    "    n = input(\"enter a num \")\n",
    "    l =[]\n",
    "    for i in n:\n",
    "        s = int(i)\n",
    "        l.append(s)\n",
    "    p = sum(l)\n",
    "    a = int(n)\n",
    "    if a % p == 0:\n",
    "        print(\"harshard no\")\n",
    "    else:\n",
    "        print(False)"
   ]
  },
  {
   "cell_type": "code",
   "execution_count": 20,
   "metadata": {},
   "outputs": [
    {
     "name": "stdout",
     "output_type": "stream",
     "text": [
      "enter a num 45\n",
      "harshard no\n"
     ]
    }
   ],
   "source": [
    "harshad_no()"
   ]
  },
  {
   "cell_type": "code",
   "execution_count": 28,
   "metadata": {},
   "outputs": [
    {
     "name": "stdout",
     "output_type": "stream",
     "text": [
      "2\n",
      "6\n",
      "12\n",
      "20\n",
      "30\n",
      "42\n",
      "56\n",
      "72\n",
      "90\n"
     ]
    }
   ],
   "source": [
    "#5 Write a Python program to print all pronic numbers between 1 and 10\n",
    "\n",
    "def pronic_no(n):\n",
    "    flag = False\n",
    "    for i in range(1 ,n+1):\n",
    "        if i*(i+1) == n:\n",
    "            flag = True \n",
    "            break\n",
    "    return flag\n",
    "for i in range(1,101):\n",
    "    if pronic_no(i):\n",
    "        print(i)"
   ]
  },
  {
   "cell_type": "code",
   "execution_count": null,
   "metadata": {},
   "outputs": [],
   "source": []
  },
  {
   "cell_type": "code",
   "execution_count": null,
   "metadata": {},
   "outputs": [],
   "source": []
  }
 ],
 "metadata": {
  "kernelspec": {
   "display_name": "Python 3",
   "language": "python",
   "name": "python3"
  },
  "language_info": {
   "codemirror_mode": {
    "name": "ipython",
    "version": 3
   },
   "file_extension": ".py",
   "mimetype": "text/x-python",
   "name": "python",
   "nbconvert_exporter": "python",
   "pygments_lexer": "ipython3",
   "version": "3.8.5"
  }
 },
 "nbformat": 4,
 "nbformat_minor": 4
}
