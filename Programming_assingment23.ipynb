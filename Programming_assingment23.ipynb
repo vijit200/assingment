{
 "cells": [
  {
   "cell_type": "code",
   "execution_count": 15,
   "id": "9f79fe81",
   "metadata": {},
   "outputs": [],
   "source": [
    "\"\"\"Question 1\n",
    "Create a function that takes a number as an argument and returns True or False depending\n",
    "on whether the number is symmetrical or not. A number is symmetrical when it is the same as\n",
    "its reverse.\"\"\"\n",
    "\n",
    "def is_symmetrical(x):\n",
    "    try:\n",
    "        z = str(x)\n",
    "        if z[::]==z[::-1]:\n",
    "            return True\n",
    "        else:\n",
    "            return False\n",
    "    except Exception as e:\n",
    "        print(e)"
   ]
  },
  {
   "cell_type": "code",
   "execution_count": 16,
   "id": "7bb11cd9",
   "metadata": {},
   "outputs": [
    {
     "data": {
      "text/plain": [
       "True"
      ]
     },
     "execution_count": 16,
     "metadata": {},
     "output_type": "execute_result"
    }
   ],
   "source": [
    "is_symmetrical('1112111')"
   ]
  },
  {
   "cell_type": "code",
   "execution_count": 24,
   "id": "45d13247",
   "metadata": {},
   "outputs": [],
   "source": [
    "\"\"\"Question 2\n",
    "Given a string of numbers separated by a comma and space, return the product of the\n",
    "numbers.\"\"\"\n",
    "\n",
    "def multiply_nums(x):\n",
    "    try:\n",
    "        l = []\n",
    "        z = x.split(', ')\n",
    "        for i in z:\n",
    "            l.append(int(i))\n",
    "        count = 1\n",
    "        for i in l:\n",
    "            count = count * i\n",
    "        return count\n",
    "    except Exception as e:\n",
    "        print(e)"
   ]
  },
  {
   "cell_type": "code",
   "execution_count": 25,
   "id": "cb278a86",
   "metadata": {},
   "outputs": [
    {
     "data": {
      "text/plain": [
       "1834650"
      ]
     },
     "execution_count": 25,
     "metadata": {},
     "output_type": "execute_result"
    }
   ],
   "source": [
    "multiply_nums('54, 75, 453')"
   ]
  },
  {
   "cell_type": "code",
   "execution_count": 26,
   "id": "fcdfd89b",
   "metadata": {},
   "outputs": [],
   "source": [
    "\"\"\"Question 3\n",
    "Create a function that squares every digit of a number.\"\"\"\n",
    "\n",
    "def square_digit(x):\n",
    "    try:\n",
    "        a = str(x)\n",
    "        p = ''\n",
    "        for i in a:\n",
    "            z = int(i)\n",
    "            b = str(z**2)\n",
    "            p = p +b\n",
    "\n",
    "        return int(p)\n",
    "    except Exception as e:\n",
    "        print(e)"
   ]
  },
  {
   "cell_type": "code",
   "execution_count": 27,
   "id": "190dc2d9",
   "metadata": {},
   "outputs": [
    {
     "data": {
      "text/plain": [
       "811181"
      ]
     },
     "execution_count": 27,
     "metadata": {},
     "output_type": "execute_result"
    }
   ],
   "source": [
    "square_digit(9119)"
   ]
  },
  {
   "cell_type": "code",
   "execution_count": 28,
   "id": "54b9438d",
   "metadata": {},
   "outputs": [],
   "source": [
    "\"\"\"Question 4\n",
    "Create a function that sorts a list and removes all duplicate items from it\"\"\"\n",
    "\n",
    "def setify(x):\n",
    "    try:\n",
    "        if type(x) == list:\n",
    "            l = []\n",
    "            x = sorted(x)\n",
    "            s = set(x)\n",
    "            for i in s:\n",
    "                l.append(i)\n",
    "            return l\n",
    "\n",
    "        else:\n",
    "            print('plzz enter list')\n",
    "    except Exception as e:\n",
    "        print(e)"
   ]
  },
  {
   "cell_type": "code",
   "execution_count": 29,
   "id": "30fd58dd",
   "metadata": {},
   "outputs": [
    {
     "data": {
      "text/plain": [
       "[0, 1, 2, 3, 5]"
      ]
     },
     "execution_count": 29,
     "metadata": {},
     "output_type": "execute_result"
    }
   ],
   "source": [
    "setify([1,3,3,5,5,2,0])"
   ]
  },
  {
   "cell_type": "code",
   "execution_count": 30,
   "id": "2580da05",
   "metadata": {},
   "outputs": [],
   "source": [
    "\"\"\"Question 5\n",
    "Create a function that returns the mean of all digits.\"\"\"\n",
    "\n",
    "def mean(x):\n",
    "    try:\n",
    "        x = str(x)\n",
    "        count = 0\n",
    "        for i in x:\n",
    "            count = count + int(i)\n",
    "        m = count/len(x)\n",
    "        return int(m)\n",
    "    except Exception as e:\n",
    "        print(e)"
   ]
  },
  {
   "cell_type": "code",
   "execution_count": 31,
   "id": "4b6c234a",
   "metadata": {},
   "outputs": [
    {
     "data": {
      "text/plain": [
       "6"
      ]
     },
     "execution_count": 31,
     "metadata": {},
     "output_type": "execute_result"
    }
   ],
   "source": [
    "mean(666)"
   ]
  },
  {
   "cell_type": "code",
   "execution_count": null,
   "id": "db3ad451",
   "metadata": {},
   "outputs": [],
   "source": []
  }
 ],
 "metadata": {
  "kernelspec": {
   "display_name": "Python 3 (ipykernel)",
   "language": "python",
   "name": "python3"
  },
  "language_info": {
   "codemirror_mode": {
    "name": "ipython",
    "version": 3
   },
   "file_extension": ".py",
   "mimetype": "text/x-python",
   "name": "python",
   "nbconvert_exporter": "python",
   "pygments_lexer": "ipython3",
   "version": "3.9.7"
  }
 },
 "nbformat": 4,
 "nbformat_minor": 5
}
