{
 "cells": [
  {
   "cell_type": "code",
   "execution_count": 11,
   "id": "5821abf5",
   "metadata": {},
   "outputs": [],
   "source": [
    "\"\"\"Question1. Create a function that takes three arguments a, b, c and returns the sum of the\n",
    "numbers that are evenly divided by c from the range a, b inclusive.\"\"\"\n",
    "\n",
    "def evenly_divisible(x,y,z):\n",
    "    try:\n",
    "        l  = []\n",
    "        for i in range(x,y+1):\n",
    "            if i%z == 0:\n",
    "                l.append(i)\n",
    "        return sum(l)\n",
    "    except Exception as e:\n",
    "        print(e)"
   ]
  },
  {
   "cell_type": "code",
   "execution_count": 12,
   "id": "22a61ff1",
   "metadata": {},
   "outputs": [
    {
     "data": {
      "text/plain": [
       "30"
      ]
     },
     "execution_count": 12,
     "metadata": {},
     "output_type": "execute_result"
    }
   ],
   "source": [
    "evenly_divisible(1,10,2)"
   ]
  },
  {
   "cell_type": "code",
   "execution_count": 17,
   "id": "bacd9330",
   "metadata": {},
   "outputs": [],
   "source": [
    "\"\"\"Question2. Create a function that returns True if a given inequality expression is correct and\n",
    "False otherwise.\"\"\"\n",
    "def correct_signs(s):\n",
    "    try:\n",
    "        regex=eval(s)\n",
    "        if regex:\n",
    "            return True\n",
    "        else:\n",
    "            return False \n",
    "    except Exception as e:\n",
    "        print(e)"
   ]
  },
  {
   "cell_type": "code",
   "execution_count": 18,
   "id": "82376f41",
   "metadata": {},
   "outputs": [
    {
     "data": {
      "text/plain": [
       "True"
      ]
     },
     "execution_count": 18,
     "metadata": {},
     "output_type": "execute_result"
    }
   ],
   "source": [
    "correct_signs(\"1<2<6<9>3\")"
   ]
  },
  {
   "cell_type": "code",
   "execution_count": 21,
   "id": "4186d1f9",
   "metadata": {},
   "outputs": [],
   "source": [
    "\"\"\"Question3. Create a function that replaces all the vowels in a string with a specified character.\"\"\"\n",
    "def replace_vowel(x,y):\n",
    "    try:\n",
    "        l='AaEeIiOoUu'\n",
    "        for i in l:\n",
    "            x = x.replace(i,y)\n",
    "        return x\n",
    "    except Exception as e :\n",
    "        print(e)\n"
   ]
  },
  {
   "cell_type": "code",
   "execution_count": 22,
   "id": "a8f2e39c",
   "metadata": {},
   "outputs": [
    {
     "data": {
      "text/plain": [
       "'th* **rdv*rk'"
      ]
     },
     "execution_count": 22,
     "metadata": {},
     "output_type": "execute_result"
    }
   ],
   "source": [
    "replace_vowel('the aardvark',\"*\")"
   ]
  },
  {
   "cell_type": "code",
   "execution_count": 27,
   "id": "9c14d2ad",
   "metadata": {},
   "outputs": [],
   "source": [
    "\"\"\"Question4. Write a function that calculates the factorial of a number recursively.\"\"\"\n",
    "def factorial(x):\n",
    "    try:\n",
    "        count = 1\n",
    "        for i in range(1,x+1):\n",
    "            count = count *i\n",
    "        return count\n",
    "    except Exception as e:\n",
    "        print(e)"
   ]
  },
  {
   "cell_type": "code",
   "execution_count": 28,
   "id": "88706aab",
   "metadata": {},
   "outputs": [
    {
     "data": {
      "text/plain": [
       "120"
      ]
     },
     "execution_count": 28,
     "metadata": {},
     "output_type": "execute_result"
    }
   ],
   "source": [
    "factorial(5)"
   ]
  },
  {
   "cell_type": "code",
   "execution_count": 29,
   "id": "11daa8ad",
   "metadata": {},
   "outputs": [],
   "source": [
    "\"\"\"Question 5\n",
    "Hamming distance is the number of characters that differ between two strings.\"\"\"\n",
    "\n",
    "def hamming_distance(x,y):\n",
    "    i = 0\n",
    "    count = 0\n",
    "    while (i < len(x)):\n",
    "        if x[i] != y[i]:\n",
    "            count +=1\n",
    "        i +=1\n",
    "    return count\n"
   ]
  },
  {
   "cell_type": "code",
   "execution_count": 30,
   "id": "56288742",
   "metadata": {},
   "outputs": [
    {
     "data": {
      "text/plain": [
       "5"
      ]
     },
     "execution_count": 30,
     "metadata": {},
     "output_type": "execute_result"
    }
   ],
   "source": [
    "hamming_distance('abcde','bcdef')"
   ]
  },
  {
   "cell_type": "code",
   "execution_count": null,
   "id": "b62935fd",
   "metadata": {},
   "outputs": [],
   "source": []
  }
 ],
 "metadata": {
  "kernelspec": {
   "display_name": "Python 3 (ipykernel)",
   "language": "python",
   "name": "python3"
  },
  "language_info": {
   "codemirror_mode": {
    "name": "ipython",
    "version": 3
   },
   "file_extension": ".py",
   "mimetype": "text/x-python",
   "name": "python",
   "nbconvert_exporter": "python",
   "pygments_lexer": "ipython3",
   "version": "3.9.7"
  }
 },
 "nbformat": 4,
 "nbformat_minor": 5
}
