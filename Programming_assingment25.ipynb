{
 "cells": [
  {
   "cell_type": "code",
   "execution_count": 11,
   "id": "82738a1d",
   "metadata": {},
   "outputs": [],
   "source": [
    "\"\"\"Question1\n",
    "Create a function that takes three integer arguments (a, b, c) and returns the amount of\n",
    "integers which are of equal value.\"\"\"\n",
    "\n",
    "def equal(a,b,c):\n",
    "    try:\n",
    "        l = [a,b,c]\n",
    "        z = []\n",
    "        for i in  l:\n",
    "            z.append(l.count(i))\n",
    "        if max(z) ==1:\n",
    "            return 0\n",
    "        else:\n",
    "            return max(z)\n",
    "    except Exception as e:\n",
    "        print(e)"
   ]
  },
  {
   "cell_type": "code",
   "execution_count": 12,
   "id": "b18b6bf1",
   "metadata": {},
   "outputs": [
    {
     "data": {
      "text/plain": [
       "0"
      ]
     },
     "execution_count": 12,
     "metadata": {},
     "output_type": "execute_result"
    }
   ],
   "source": [
    "equal(3,4,1)"
   ]
  },
  {
   "cell_type": "code",
   "execution_count": 31,
   "id": "7a3cc4ce",
   "metadata": {},
   "outputs": [],
   "source": [
    "\"\"\"Question2\n",
    "Write a function that converts a dictionary into a list of keys-values tuples.\"\"\"\n",
    "\n",
    "def dict_to_list(s):\n",
    "    try:\n",
    "        l = []\n",
    "        z = []\n",
    "        for i in s.keys():\n",
    "            l.append(i)\n",
    "        for j in s.values():\n",
    "            z.append(j)\n",
    "        return sorted(list(zip(l,z)))\n",
    "    except Exception as e:\n",
    "        print(e)"
   ]
  },
  {
   "cell_type": "code",
   "execution_count": 32,
   "id": "445f7c00",
   "metadata": {},
   "outputs": [
    {
     "data": {
      "text/plain": [
       "[('dislike', 3), ('followers', 10), ('likes', 2)]"
      ]
     },
     "execution_count": 32,
     "metadata": {},
     "output_type": "execute_result"
    }
   ],
   "source": [
    "dict_to_list({'likes':2,'dislike':3,'followers':10})"
   ]
  },
  {
   "cell_type": "code",
   "execution_count": 51,
   "id": "fc92618f",
   "metadata": {},
   "outputs": [],
   "source": [
    "\"\"\"Question3\n",
    "Write a function that creates a dictionary with each (key, value) pair being the (lower case,\n",
    "upper case) versions of a letter, respectively.\n",
    "\"\"\"\n",
    "\n",
    "def mapping(x):\n",
    "    try:\n",
    "        d = {}\n",
    "        for i in x:\n",
    "            d[i] = i.upper()\n",
    "        return d\n",
    "    except Exception as e:\n",
    "        print(e)"
   ]
  },
  {
   "cell_type": "code",
   "execution_count": 52,
   "id": "a5829d6c",
   "metadata": {},
   "outputs": [
    {
     "data": {
      "text/plain": [
       "{'a': 'A', 'b': 'B', 'c': 'C', 'e': 'E'}"
      ]
     },
     "execution_count": 52,
     "metadata": {},
     "output_type": "execute_result"
    }
   ],
   "source": [
    "mapping(['a','b','c','e'])"
   ]
  },
  {
   "cell_type": "code",
   "execution_count": 53,
   "id": "08e5e706",
   "metadata": {},
   "outputs": [],
   "source": [
    "\"\"\"Question4\n",
    "Write a function, that replaces all vowels in a string with a specified vowel.\"\"\"\n",
    "def replace_vowel(x,y):\n",
    "    try:\n",
    "        l='AaEeIiOoUu'\n",
    "        for i in l:\n",
    "            x = x.replace(i,y)\n",
    "        return x\n",
    "    except Exception as e :\n",
    "        print(e)"
   ]
  },
  {
   "cell_type": "code",
   "execution_count": 54,
   "id": "a514554b",
   "metadata": {},
   "outputs": [
    {
     "data": {
      "text/plain": [
       "'upplus und bununus'"
      ]
     },
     "execution_count": 54,
     "metadata": {},
     "output_type": "execute_result"
    }
   ],
   "source": [
    "replace_vowel('apples and bananas','u')"
   ]
  },
  {
   "cell_type": "code",
   "execution_count": 66,
   "id": "0d2ad611",
   "metadata": {},
   "outputs": [],
   "source": [
    "\"\"\"Question5\n",
    "Create a function that takes a string as input and capitalizes a letter if its ASCII code is even\n",
    "and returns its lower case version if its ASCII code is odd.\"\"\"\n",
    "\n",
    "def ascii_captalize(x):\n",
    "    try:\n",
    "        p = ''\n",
    "        for i in x:\n",
    "            x = int(ord(i))\n",
    "            if x%2 == 0:\n",
    "                p=p+i.upper()\n",
    "\n",
    "            else:\n",
    "                p = p+i.lower()\n",
    "        return p\n",
    "    except Exception as e:\n",
    "        print(e)"
   ]
  },
  {
   "cell_type": "code",
   "execution_count": 67,
   "id": "fdf3e35d",
   "metadata": {},
   "outputs": [
    {
     "data": {
      "text/plain": [
       "'THe LiTTLe meRmaiD'"
      ]
     },
     "execution_count": 67,
     "metadata": {},
     "output_type": "execute_result"
    }
   ],
   "source": [
    "ascii_captalize('the little mermaid')"
   ]
  },
  {
   "cell_type": "code",
   "execution_count": null,
   "id": "0c869e58",
   "metadata": {},
   "outputs": [],
   "source": []
  }
 ],
 "metadata": {
  "kernelspec": {
   "display_name": "Python 3 (ipykernel)",
   "language": "python",
   "name": "python3"
  },
  "language_info": {
   "codemirror_mode": {
    "name": "ipython",
    "version": 3
   },
   "file_extension": ".py",
   "mimetype": "text/x-python",
   "name": "python",
   "nbconvert_exporter": "python",
   "pygments_lexer": "ipython3",
   "version": "3.9.7"
  }
 },
 "nbformat": 4,
 "nbformat_minor": 5
}
