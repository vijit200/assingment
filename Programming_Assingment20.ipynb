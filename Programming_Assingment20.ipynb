{
 "cells": [
  {
   "cell_type": "code",
   "execution_count": 1,
   "id": "186b7fca",
   "metadata": {},
   "outputs": [],
   "source": [
    "\"\"\"Question1\n",
    "Create a function that takes a list of strings and integers, and filters out the list so that it\n",
    "returns a list of integers only.\"\"\"\n",
    "\n",
    "def filter_list(x):\n",
    "    try:\n",
    "        l = []\n",
    "        for i in x:\n",
    "            if type(i) == int:\n",
    "                l.append(i)\n",
    "        return l\n",
    "    except Exception as e:\n",
    "        print(e)"
   ]
  },
  {
   "cell_type": "code",
   "execution_count": 2,
   "id": "86fd90ab",
   "metadata": {},
   "outputs": [
    {
     "data": {
      "text/plain": [
       "[1, 2, 3]"
      ]
     },
     "execution_count": 2,
     "metadata": {},
     "output_type": "execute_result"
    }
   ],
   "source": [
    "filter_list([1,2,3,'a','b'])"
   ]
  },
  {
   "cell_type": "code",
   "execution_count": 3,
   "id": "9f90ee4c",
   "metadata": {},
   "outputs": [
    {
     "data": {
      "text/plain": [
       "[]"
      ]
     },
     "execution_count": 3,
     "metadata": {},
     "output_type": "execute_result"
    }
   ],
   "source": [
    "filter_list(['a','b'])"
   ]
  },
  {
   "cell_type": "code",
   "execution_count": 3,
   "id": "ca82c856",
   "metadata": {},
   "outputs": [],
   "source": [
    "\"\"\"Question2\n",
    "Given a list of numbers, create a function which returns the list but with each element&#39;s\n",
    "index in the list added to itself. This means you add 0 to the number at index 0, add 1 to the\n",
    "number at index 1, etc...\"\"\"\n",
    "\n",
    "def add_index(x):\n",
    "    try:\n",
    "        l = []\n",
    "        count = 0\n",
    "        for i in x:\n",
    "            l.append(i+count)\n",
    "            count += 1\n",
    "        return l\n",
    "    except Exception as e:\n",
    "        print(e)"
   ]
  },
  {
   "cell_type": "code",
   "execution_count": 4,
   "id": "42a2ed29",
   "metadata": {},
   "outputs": [
    {
     "data": {
      "text/plain": [
       "[0, 1, 2, 3, 4]"
      ]
     },
     "execution_count": 4,
     "metadata": {},
     "output_type": "execute_result"
    }
   ],
   "source": [
    "add_index([0,0,0,0,0])"
   ]
  },
  {
   "cell_type": "code",
   "execution_count": 10,
   "id": "79978314",
   "metadata": {},
   "outputs": [],
   "source": [
    "\"\"\"Question3\n",
    "Create a function that takes the height and radius of a cone as arguments and returns the\n",
    "volume of the cone rounded to the nearest hundredth. See the resources tab for the formula.\"\"\"\n",
    "def vol_cone(x,y):\n",
    "    try:\n",
    "        \"\"\"x = radius y = height\"\"\"\n",
    "        s = (3.14159*(x**2)*y)/3\n",
    "        return round(s,2)\n",
    "    except Exception as e:\n",
    "        print(e)\n"
   ]
  },
  {
   "cell_type": "code",
   "execution_count": 11,
   "id": "cfd0368d",
   "metadata": {},
   "outputs": [
    {
     "data": {
      "text/plain": [
       "12.57"
      ]
     },
     "execution_count": 11,
     "metadata": {},
     "output_type": "execute_result"
    }
   ],
   "source": [
    "vol_cone(2,3)"
   ]
  },
  {
   "cell_type": "code",
   "execution_count": 20,
   "id": "e9a6fad4",
   "metadata": {},
   "outputs": [],
   "source": [
    "\"\"\"Question4\n",
    "This Triangular Number Sequence is generated from a pattern of dots that form a triangle.\n",
    "The first 5 numbers of the sequence, or dots, are:\n",
    "1, 3, 6, 10, 15\n",
    "This means that the first triangle has just one dot, the second one has three dots, the third one\n",
    "has 6 dots and so on.\n",
    "Write a function that gives the number of dots with its corresponding triangle number of the\n",
    "sequence.\"\"\"\n",
    "\n",
    "def triangle(n):\n",
    "    try:\n",
    "        s = (n*(n+1))/2\n",
    "        return int(s)\n",
    "    except Exception as e:\n",
    "        print(e)"
   ]
  },
  {
   "cell_type": "code",
   "execution_count": 21,
   "id": "46008cb7",
   "metadata": {},
   "outputs": [
    {
     "data": {
      "text/plain": [
       "21"
      ]
     },
     "execution_count": 21,
     "metadata": {},
     "output_type": "execute_result"
    }
   ],
   "source": [
    "triangle(6)"
   ]
  },
  {
   "cell_type": "code",
   "execution_count": 25,
   "id": "c51aaf3d",
   "metadata": {},
   "outputs": [],
   "source": [
    "\"\"\"Question5\n",
    "Create a function that takes a list of numbers between 1 and 10 (excluding one number) and\n",
    "returns the missing number.\"\"\"\n",
    "\n",
    "def missing_num(x):\n",
    "    try:\n",
    "        l = [1,2,3,4,5,6,7,8,9,10]\n",
    "        for i in l:\n",
    "            if i not in x:\n",
    "                return i\n",
    "    except Exception as e:\n",
    "        print(e)"
   ]
  },
  {
   "cell_type": "code",
   "execution_count": 26,
   "id": "5b400836",
   "metadata": {},
   "outputs": [
    {
     "data": {
      "text/plain": [
       "5"
      ]
     },
     "execution_count": 26,
     "metadata": {},
     "output_type": "execute_result"
    }
   ],
   "source": [
    "missing_num([1,2,3,4,6,7,8,9,10])"
   ]
  },
  {
   "cell_type": "code",
   "execution_count": null,
   "id": "b48822a2",
   "metadata": {},
   "outputs": [],
   "source": []
  }
 ],
 "metadata": {
  "kernelspec": {
   "display_name": "Python 3 (ipykernel)",
   "language": "python",
   "name": "python3"
  },
  "language_info": {
   "codemirror_mode": {
    "name": "ipython",
    "version": 3
   },
   "file_extension": ".py",
   "mimetype": "text/x-python",
   "name": "python",
   "nbconvert_exporter": "python",
   "pygments_lexer": "ipython3",
   "version": "3.9.7"
  }
 },
 "nbformat": 4,
 "nbformat_minor": 5
}
