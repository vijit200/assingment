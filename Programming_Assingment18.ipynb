{
 "cells": [
  {
   "cell_type": "code",
   "execution_count": 4,
   "id": "e6b81270",
   "metadata": {},
   "outputs": [],
   "source": [
    "\"\"\"Question 1\n",
    "Create a function that takes a list of non-negative integers and strings and return a new list\n",
    "without the strings.\"\"\"\n",
    "\n",
    "def filter_list(x):\n",
    "    try:\n",
    "        l = []\n",
    "        for i in x:\n",
    "            if type(i) == int:\n",
    "                l.append(i)\n",
    "        return l\n",
    "    except Exception as e:\n",
    "        print(e)"
   ]
  },
  {
   "cell_type": "code",
   "execution_count": 5,
   "id": "70d655d4",
   "metadata": {},
   "outputs": [
    {
     "data": {
      "text/plain": [
       "[1, 2, 5]"
      ]
     },
     "execution_count": 5,
     "metadata": {},
     "output_type": "execute_result"
    }
   ],
   "source": [
    "filter_list([1,2,5,'abc'])"
   ]
  },
  {
   "cell_type": "code",
   "execution_count": 8,
   "id": "f9ea4287",
   "metadata": {},
   "outputs": [],
   "source": [
    "\"\"\"Question 2\n",
    "The \"Reverser\" takes a string as input and returns that string in reverse order, with the\n",
    "opposite case.\"\"\"\n",
    "\n",
    "def reverse(x):\n",
    "    try:\n",
    "        s = x.swapcase()\n",
    "        return s[::-1]\n",
    "    except Exception as e:\n",
    "        print(e)\n",
    "    "
   ]
  },
  {
   "cell_type": "code",
   "execution_count": 9,
   "id": "3b9f61f1",
   "metadata": {},
   "outputs": [
    {
     "data": {
      "text/plain": [
       "'DLROw OLLEh'"
      ]
     },
     "execution_count": 9,
     "metadata": {},
     "output_type": "execute_result"
    }
   ],
   "source": [
    "reverse('Hello World')"
   ]
  },
  {
   "cell_type": "code",
   "execution_count": 11,
   "id": "7b3844de",
   "metadata": {},
   "outputs": [],
   "source": [
    "\"\"\"Question 4\n",
    "Write a function that calculates the factorial of a number recursively.\"\"\"\n",
    "\n",
    "def factorial(x):\n",
    "    try:\n",
    "        count = 1\n",
    "        for i in range(1,x+1):\n",
    "            count = count *i\n",
    "        return count\n",
    "    except Exception as e:\n",
    "        print(e)"
   ]
  },
  {
   "cell_type": "code",
   "execution_count": 13,
   "id": "a19fbb32",
   "metadata": {},
   "outputs": [
    {
     "data": {
      "text/plain": [
       "120"
      ]
     },
     "execution_count": 13,
     "metadata": {},
     "output_type": "execute_result"
    }
   ],
   "source": [
    "factorial(5)"
   ]
  },
  {
   "cell_type": "code",
   "execution_count": 16,
   "id": "8627e32d",
   "metadata": {},
   "outputs": [],
   "source": [
    "\"\"\"Write a function that moves all elements of one type to the end of the list.\"\"\"\n",
    "def move_to_end(x,y):\n",
    "    try:\n",
    "        for i in x:\n",
    "            if i == y:\n",
    "                x.append(x.pop(x.index(i)))\n",
    "        return x\n",
    "    except Exception as e:\n",
    "        print(e)"
   ]
  },
  {
   "cell_type": "code",
   "execution_count": 17,
   "id": "a5d680c4",
   "metadata": {},
   "outputs": [
    {
     "data": {
      "text/plain": [
       "['b', 'a', 'a', 'a']"
      ]
     },
     "execution_count": 17,
     "metadata": {},
     "output_type": "execute_result"
    }
   ],
   "source": [
    "move_to_end([\"a\",\"a\",\"a\",\"b\"],\"a\")"
   ]
  },
  {
   "cell_type": "code",
   "execution_count": null,
   "id": "3f95ab9c",
   "metadata": {},
   "outputs": [],
   "source": []
  }
 ],
 "metadata": {
  "kernelspec": {
   "display_name": "Python 3 (ipykernel)",
   "language": "python",
   "name": "python3"
  },
  "language_info": {
   "codemirror_mode": {
    "name": "ipython",
    "version": 3
   },
   "file_extension": ".py",
   "mimetype": "text/x-python",
   "name": "python",
   "nbconvert_exporter": "python",
   "pygments_lexer": "ipython3",
   "version": "3.9.7"
  }
 },
 "nbformat": 4,
 "nbformat_minor": 5
}
