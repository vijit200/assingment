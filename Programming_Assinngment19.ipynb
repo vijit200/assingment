{
 "cells": [
  {
   "cell_type": "code",
   "execution_count": 4,
   "id": "a9b87e32",
   "metadata": {},
   "outputs": [],
   "source": [
    "\"\"\"Question1\n",
    "Create a function that takes a string and returns a string in which each character is repeated\n",
    "once.\"\"\"\n",
    "\n",
    "def double_char(x):\n",
    "    try:\n",
    "        s = ''\n",
    "        for i in x:\n",
    "            s = s + 2*i\n",
    "        return s\n",
    "    except Exception as e:\n",
    "        print(e)"
   ]
  },
  {
   "cell_type": "code",
   "execution_count": 5,
   "id": "f5e28425",
   "metadata": {},
   "outputs": [
    {
     "data": {
      "text/plain": [
       "'HHeelllloo  WWoorrlldd!!'"
      ]
     },
     "execution_count": 5,
     "metadata": {},
     "output_type": "execute_result"
    }
   ],
   "source": [
    "double_char('Hello World!')"
   ]
  },
  {
   "cell_type": "code",
   "execution_count": 10,
   "id": "45d00ed7",
   "metadata": {},
   "outputs": [],
   "source": [
    "\"\"\"Question2\n",
    "Create a function that reverses a boolean value and returns the string \"boolean expected\"\n",
    "if another variable type is given.\"\"\"\n",
    "\n",
    "def reverse(arg):\n",
    "    try:\n",
    "        if isinstance(arg, bool):\n",
    "            return not arg\n",
    "        else:\n",
    "            return('boolean expected')\n",
    "    except Exception as e:\n",
    "        print(e)\n"
   ]
  },
  {
   "cell_type": "code",
   "execution_count": 11,
   "id": "fb637fee",
   "metadata": {},
   "outputs": [
    {
     "data": {
      "text/plain": [
       "False"
      ]
     },
     "execution_count": 11,
     "metadata": {},
     "output_type": "execute_result"
    }
   ],
   "source": [
    "reverse(True)"
   ]
  },
  {
   "cell_type": "code",
   "execution_count": 30,
   "id": "40fcca71",
   "metadata": {},
   "outputs": [],
   "source": [
    "\"\"\"Create a function that returns the thickness (in meters) of a piece of paper after folding it n\n",
    "number of times. The paper starts off with a thickness of 0.5mm\"\"\"\n",
    "\n",
    "def num_layers(n):\n",
    "    try:\n",
    "        r = 2**n\n",
    "        return 'paper folded {} times is {}mm (equal to {}m)'.format(n,r ,(r*0.5)/1000)\n",
    "    except Exception as e:\n",
    "        print(e)"
   ]
  },
  {
   "cell_type": "code",
   "execution_count": 31,
   "id": "39725eae",
   "metadata": {},
   "outputs": [
    {
     "data": {
      "text/plain": [
       "'paper folded 21 times is 2097152mm (equal to 1048.576m)'"
      ]
     },
     "execution_count": 31,
     "metadata": {},
     "output_type": "execute_result"
    }
   ],
   "source": [
    "num_layers(21)"
   ]
  },
  {
   "cell_type": "code",
   "execution_count": 35,
   "id": "c7f0f56c",
   "metadata": {},
   "outputs": [],
   "source": [
    "\"\"\"Question4\n",
    "\n",
    "Create a function that takes a single string as argument and returns an ordered list containing\n",
    "the indices of all capital letters in the string.\"\"\"\n",
    "\n",
    "def index_of_caps(x):\n",
    "    try:\n",
    "        l = []\n",
    "        for i in x:\n",
    "            if i.isupper():\n",
    "                l.append(x.index(i))\n",
    "        return l\n",
    "    except Exception as e:\n",
    "        print(e)"
   ]
  },
  {
   "cell_type": "code",
   "execution_count": 36,
   "id": "964189da",
   "metadata": {},
   "outputs": [
    {
     "data": {
      "text/plain": [
       "[1, 3, 5]"
      ]
     },
     "execution_count": 36,
     "metadata": {},
     "output_type": "execute_result"
    }
   ],
   "source": [
    "index_of_caps('eDaBiT')"
   ]
  },
  {
   "cell_type": "code",
   "execution_count": 40,
   "id": "d5567669",
   "metadata": {},
   "outputs": [],
   "source": [
    "\"\"\"Question5\n",
    "Using list comprehensions, create a function that finds all even numbers from 1 to the given\n",
    "number.\"\"\"\n",
    "\n",
    "def find_even_nums(x):\n",
    "    try:\n",
    "        l = []\n",
    "        for i in range(1,x+1):\n",
    "            if i%2 == 0:\n",
    "                l.append(i)\n",
    "        return l\n",
    "    except Exception as e:\n",
    "        print(e)\n"
   ]
  },
  {
   "cell_type": "code",
   "execution_count": 41,
   "id": "d899879b",
   "metadata": {},
   "outputs": [
    {
     "data": {
      "text/plain": [
       "[2, 4, 6, 8]"
      ]
     },
     "execution_count": 41,
     "metadata": {},
     "output_type": "execute_result"
    }
   ],
   "source": [
    "find_even_nums(8)"
   ]
  },
  {
   "cell_type": "code",
   "execution_count": null,
   "id": "cd7dd741",
   "metadata": {},
   "outputs": [],
   "source": []
  }
 ],
 "metadata": {
  "kernelspec": {
   "display_name": "Python 3 (ipykernel)",
   "language": "python",
   "name": "python3"
  },
  "language_info": {
   "codemirror_mode": {
    "name": "ipython",
    "version": 3
   },
   "file_extension": ".py",
   "mimetype": "text/x-python",
   "name": "python",
   "nbconvert_exporter": "python",
   "pygments_lexer": "ipython3",
   "version": "3.9.7"
  }
 },
 "nbformat": 4,
 "nbformat_minor": 5
}
