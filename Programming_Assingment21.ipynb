{
 "cells": [
  {
   "cell_type": "code",
   "execution_count": 18,
   "id": "1e2cd178",
   "metadata": {},
   "outputs": [],
   "source": [
    "\"\"\"Question1\n",
    "Write a function that takes a list and a number as arguments. Add the number to the end of\n",
    "the list, then remove the first element of the list. The function should then return the updated\n",
    "list.\"\"\"\n",
    "\n",
    "def next_in_line(x,y):\n",
    "    try:\n",
    "        l = []\n",
    "        if len(x) ==0:\n",
    "            print('no list is selected')\n",
    "        else:    \n",
    "            z = x.pop(0)\n",
    "            for i in x:\n",
    "                l.append(i)\n",
    "            l.append(y)\n",
    "            return l\n",
    "    except Exception as e:\n",
    "        print(e)"
   ]
  },
  {
   "cell_type": "code",
   "execution_count": 19,
   "id": "30c89a47",
   "metadata": {},
   "outputs": [
    {
     "data": {
      "text/plain": [
       "[10, 20, 42, 6]"
      ]
     },
     "execution_count": 19,
     "metadata": {},
     "output_type": "execute_result"
    }
   ],
   "source": [
    "next_in_line([1,10,20,42],6)"
   ]
  },
  {
   "cell_type": "code",
   "execution_count": 31,
   "id": "4d0653f6",
   "metadata": {},
   "outputs": [],
   "source": [
    "\"\"\"Question2\n",
    "Create the function that takes a list of dictionaries and returns the sum of people's budgets\"\"\"\n",
    "\n",
    "def get_budgets(x):\n",
    "    try:\n",
    "        l =[]\n",
    "        for i in x:\n",
    "            l.append(int(i['budget']))\n",
    "        return sum(l)\n",
    "    except Exception as e:\n",
    "        print(e)"
   ]
  },
  {
   "cell_type": "code",
   "execution_count": 32,
   "id": "40135015",
   "metadata": {},
   "outputs": [
    {
     "data": {
      "text/plain": [
       "65700"
      ]
     },
     "execution_count": 32,
     "metadata": {},
     "output_type": "execute_result"
    }
   ],
   "source": [
    "get_budgets([{'name':'john','age':21,'budget':23000},{'name':'steve','age':32,'budget':40000},{'name':'martin','age':16,'budget':2700}])"
   ]
  },
  {
   "cell_type": "code",
   "execution_count": 39,
   "id": "85990cd6",
   "metadata": {},
   "outputs": [],
   "source": [
    "\"\"\"Question3\n",
    "Create a function that takes a string and returns a string with its letters in alphabetical order\"\"\"\n",
    "\n",
    "def alphabatical_soup(x):\n",
    "    try:\n",
    "        p = ''\n",
    "        l = sorted(x)\n",
    "        for i in l:\n",
    "            p = p + i\n",
    "        return p\n",
    "    except Exception as e:\n",
    "        print(e)"
   ]
  },
  {
   "cell_type": "code",
   "execution_count": 40,
   "id": "e5eba049",
   "metadata": {},
   "outputs": [
    {
     "data": {
      "text/plain": [
       "'acehkr'"
      ]
     },
     "execution_count": 40,
     "metadata": {},
     "output_type": "execute_result"
    }
   ],
   "source": [
    "alphabatical_soup('hacker')"
   ]
  },
  {
   "cell_type": "code",
   "execution_count": 77,
   "id": "3909460e",
   "metadata": {},
   "outputs": [],
   "source": [
    "\"\"\"Question4\n",
    "Suppose that you invest $10,000 for 10 years at an interest rate of 6% compounded monthly.\n",
    "What will be the value of your investment at the end of the 10 year period?\n",
    "Create a function that accepts the principal p, the term in years t, the interest rate r, and the\n",
    "number of compounding periods per year n. The function returns the value at the end of term\n",
    "rounded to the nearest cent.\n",
    "For the example above:\n",
    "compound_interest(10000, 10, 0.06, 12) ➞ 18193.97\n",
    "Note that the interest rate is given as a decimal and n=12 because with monthly compounding\n",
    "there are 12 periods per year. Compounding can also be done annually, quarterly, weekly, or\n",
    "daily.\"\"\"\n",
    "\n",
    "def compound_intrest(a,b,c,d):\n",
    "    try:\n",
    "        \"\"\"\n",
    "        a = principal b = rate  c = no of time interest is compunded annually\n",
    "        d = overall tenure\n",
    "        \"\"\"\n",
    "        ci = a*((1+(b/c))**(c*d))\n",
    "        ci = ci -a\n",
    "        return round(ci+a,2)\n",
    "    except Exception as e:\n",
    "        print(e)"
   ]
  },
  {
   "cell_type": "code",
   "execution_count": 76,
   "id": "19afa5d5",
   "metadata": {},
   "outputs": [
    {
     "data": {
      "text/plain": [
       "2007316.26"
      ]
     },
     "execution_count": 76,
     "metadata": {},
     "output_type": "execute_result"
    }
   ],
   "source": [
    "compound_intrest(100000,0.15,365,20)"
   ]
  },
  {
   "cell_type": "code",
   "execution_count": 78,
   "id": "2352d491",
   "metadata": {},
   "outputs": [],
   "source": [
    "\"\"\"Question5\n",
    "Write a function that takes a list of elements and returns only the integers\"\"\"\n",
    "\n",
    "def filter_list(x):\n",
    "    try:\n",
    "        l = []\n",
    "        for i in x:\n",
    "            if type(i) == int:\n",
    "                l.append(i)\n",
    "        return l\n",
    "    except Exception as e:\n",
    "        print(e)"
   ]
  },
  {
   "cell_type": "code",
   "execution_count": 79,
   "id": "f7ad3e08",
   "metadata": {},
   "outputs": [
    {
     "data": {
      "text/plain": [
       "[9, 2]"
      ]
     },
     "execution_count": 79,
     "metadata": {},
     "output_type": "execute_result"
    }
   ],
   "source": [
    "filter_list([9,2,True,3.3,'space'])"
   ]
  },
  {
   "cell_type": "code",
   "execution_count": null,
   "id": "8964c0ba",
   "metadata": {},
   "outputs": [],
   "source": []
  }
 ],
 "metadata": {
  "kernelspec": {
   "display_name": "Python 3 (ipykernel)",
   "language": "python",
   "name": "python3"
  },
  "language_info": {
   "codemirror_mode": {
    "name": "ipython",
    "version": 3
   },
   "file_extension": ".py",
   "mimetype": "text/x-python",
   "name": "python",
   "nbconvert_exporter": "python",
   "pygments_lexer": "ipython3",
   "version": "3.9.7"
  }
 },
 "nbformat": 4,
 "nbformat_minor": 5
}
