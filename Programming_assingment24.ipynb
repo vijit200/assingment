{
 "cells": [
  {
   "cell_type": "code",
   "execution_count": 5,
   "id": "b3b1507e",
   "metadata": {},
   "outputs": [],
   "source": [
    "\"\"\"Question1\n",
    "Create a function that takes an integer and returns a list from 1 to the given number, where:\n",
    "1. If the number can be divided evenly by 4, amplify it by 10 (i.e. return 10 times the\n",
    "number).\n",
    "2. If the number cannot be divided evenly by 4, simply return the number.\"\"\"\n",
    "\n",
    "def amplify(x):\n",
    "    try:\n",
    "        l=[]\n",
    "        for i in range(1,x+1):\n",
    "            if i%4 == 0:\n",
    "                l.append(i*10)\n",
    "            else:\n",
    "                l.append(i)\n",
    "        return l\n",
    "    except Exception as e :\n",
    "        print(e)"
   ]
  },
  {
   "cell_type": "code",
   "execution_count": 6,
   "id": "f826045a",
   "metadata": {},
   "outputs": [
    {
     "data": {
      "text/plain": [
       "[1, 2, 3, 40]"
      ]
     },
     "execution_count": 6,
     "metadata": {},
     "output_type": "execute_result"
    }
   ],
   "source": [
    "amplify(4)"
   ]
  },
  {
   "cell_type": "code",
   "execution_count": 14,
   "id": "b22c00c1",
   "metadata": {},
   "outputs": [],
   "source": [
    "\"\"\"Question2\n",
    "Create a function that takes a list of numbers and return the number that's unique\"\"\"\n",
    "\n",
    "def unique(x):\n",
    "    try:\n",
    "        if type(x)==list:\n",
    "            for i in x:\n",
    "                z= x.count(i)\n",
    "                if z == 1:\n",
    "                    return i\n",
    "        else:\n",
    "            print('plz enter list')\n",
    "    except Exception as e:\n",
    "        print(e)"
   ]
  },
  {
   "cell_type": "code",
   "execution_count": 17,
   "id": "56f76824",
   "metadata": {},
   "outputs": [
    {
     "data": {
      "text/plain": [
       "0.77"
      ]
     },
     "execution_count": 17,
     "metadata": {},
     "output_type": "execute_result"
    }
   ],
   "source": [
    "unique([0,0,0.77,0,0])"
   ]
  },
  {
   "cell_type": "code",
   "execution_count": 26,
   "id": "fa4ce538",
   "metadata": {},
   "outputs": [],
   "source": [
    "\"\"\"Question3\n",
    "Your task is to create a Circle constructor that creates a circle with a radius provided by an\n",
    "argument. The circles constructed must have two getters getArea() (PIr^2) and\n",
    "getPerimeter() (2PI*r) which give both respective areas and perimeter (circumference).\n",
    "\n",
    "For help with this class, I have provided you with a Rectangle constructor which you can use\n",
    "as a base example.\"\"\"\n",
    "\n",
    "class circle:\n",
    "    \n",
    "    def __init__(self ,radius):\n",
    "        self.radius = radius\n",
    "        \n",
    "    def get_area(self):\n",
    "        c = 3.142857142857143*(self.radius ** 2)\n",
    "        return c\n",
    "    def get_perimeter(self):\n",
    "        d = 2 * 3.142857142857143 *self.radius\n",
    "        return d"
   ]
  },
  {
   "cell_type": "code",
   "execution_count": 29,
   "id": "6a7361e0",
   "metadata": {},
   "outputs": [
    {
     "data": {
      "text/plain": [
       "380.2857142857143"
      ]
     },
     "execution_count": 29,
     "metadata": {},
     "output_type": "execute_result"
    }
   ],
   "source": [
    "s = circle(11)\n",
    "s.get_area()"
   ]
  },
  {
   "cell_type": "code",
   "execution_count": 30,
   "id": "eb189c17",
   "metadata": {},
   "outputs": [
    {
     "data": {
      "text/plain": [
       "27.90857142857143"
      ]
     },
     "execution_count": 30,
     "metadata": {},
     "output_type": "execute_result"
    }
   ],
   "source": [
    "s = circle(4.44)\n",
    "s.get_perimeter()"
   ]
  },
  {
   "cell_type": "code",
   "execution_count": 31,
   "id": "f74f13f0",
   "metadata": {},
   "outputs": [],
   "source": [
    "\"\"\"Question4\n",
    "Create a function that takes a list of strings and return a list, sorted from shortest to longest.\"\"\"\n",
    "\n",
    "def sort_by_length(x):\n",
    "    l = sorted(x,key=len)\n",
    "    return l"
   ]
  },
  {
   "cell_type": "code",
   "execution_count": 32,
   "id": "8bc3c361",
   "metadata": {},
   "outputs": [
    {
     "data": {
      "text/plain": [
       "['Jung', 'Turing', 'Einstein']"
      ]
     },
     "execution_count": 32,
     "metadata": {},
     "output_type": "execute_result"
    }
   ],
   "source": [
    "sort_by_length(['Turing','Jung','Einstein'])"
   ]
  },
  {
   "cell_type": "code",
   "execution_count": 48,
   "id": "a5f3262d",
   "metadata": {},
   "outputs": [],
   "source": [
    "\"\"\"Question5\n",
    "Create a function that validates whether three given integers form a Pythagorean triplet. The\n",
    "sum of the squares of the two smallest integers must equal the square of the largest number to\n",
    "be validated.\"\"\"\n",
    "\n",
    "def is_triplet(x,y,z):\n",
    "    try:\n",
    "        l =[x,y,z]\n",
    "        p = []\n",
    "        s = max(l)\n",
    "        l.pop(l.index(s))\n",
    "        for i in l:\n",
    "             p.append(i**2)\n",
    "        if s**2 == sum(p):\n",
    "            return  True\n",
    "        else:\n",
    "            return False\n",
    "        return l\n",
    "    except Exception as e:\n",
    "        print(e)"
   ]
  },
  {
   "cell_type": "code",
   "execution_count": 49,
   "id": "f3a3ff36",
   "metadata": {},
   "outputs": [
    {
     "data": {
      "text/plain": [
       "True"
      ]
     },
     "execution_count": 49,
     "metadata": {},
     "output_type": "execute_result"
    }
   ],
   "source": [
    "is_triplet(13,5,12)"
   ]
  },
  {
   "cell_type": "code",
   "execution_count": null,
   "id": "487fc8dd",
   "metadata": {},
   "outputs": [],
   "source": []
  }
 ],
 "metadata": {
  "kernelspec": {
   "display_name": "Python 3 (ipykernel)",
   "language": "python",
   "name": "python3"
  },
  "language_info": {
   "codemirror_mode": {
    "name": "ipython",
    "version": 3
   },
   "file_extension": ".py",
   "mimetype": "text/x-python",
   "name": "python",
   "nbconvert_exporter": "python",
   "pygments_lexer": "ipython3",
   "version": "3.9.7"
  }
 },
 "nbformat": 4,
 "nbformat_minor": 5
}
