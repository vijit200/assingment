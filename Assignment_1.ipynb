{
 "cells": [
  {
   "cell_type": "raw",
   "metadata": {},
   "source": [
    "Q1. In the below elements which of them are values or an expression? eg:- values can be\n",
    "integer or string and expressions will be mathematical operators.\n",
    "*\n",
    "hello;\n",
    "-87.8\n",
    "-\n",
    "/\n",
    "+\n",
    "6\n",
    "\n",
    "Ans-\"* ,-,/,+\" these are expression\n",
    "\"hello, -87.8, 6\" these are values"
   ]
  },
  {
   "cell_type": "raw",
   "metadata": {},
   "source": [
    "Q2. What is the difference between string and variable?\n",
    "Ans. String is a data type while variable is not\n",
    "2. string is a collection of word while variable is use to store any value in your ram.\n",
    "3.String always enclosed with single or double quotes while variable can store anything string or number.\n",
    "4. eg of string \"this is string\"\n",
    "eg of variable n=25"
   ]
  },
  {
   "cell_type": "raw",
   "metadata": {},
   "source": [
    "Q3. Describe three different data types.\n",
    "    Ans3. String- String is one of the most famous data type in python it is always enclosed within single or double quotes .The value in string in quote have index number.String is collection of character.A single alphabet is also act as string if we take integer in quote they will also act as string.In string only multiplication of string and addition is allowed.String are immutable.\n",
    "Eg. n='my name'\n",
    "   m='34'\n",
    "both m and n are string type\n",
    "\n",
    "List- list contain multiple element of different data type it can also contain list inside list which is called nested list .list is enclosed within a square braces[].list also have index no .list is mutable we can change the data in list after execution also.in list we can do addition and multiplication with same data type(list).\n",
    "Eg. a=[25,46,'name']\n",
    "\n",
    "Boolean - Boolean data type has two built in value True and False.The value of true is 1 and false is 0.Always use capital T in True and F in False  \n"
   ]
  },
  {
   "cell_type": "raw",
   "metadata": {},
   "source": [
    "Q4. What is an expression made up of? What do all expressions do?\n",
    "Ans - Expression is made up of combination of operator, literals and variables\n",
    "\n",
    "type of expression- 1.- Arithmetic Expression- it involve number and arithmetic operator\n",
    "2. Relational Operator- An expression having combination of valid operands and logical operators.\n",
    "3. String Expression- Expression having any valid combination of string operation(+,*) and string operands\n",
    "4. Logical Expression- An expression having any vlaid combination of operands and logical operators  is called logical expression.\n",
    "5. Compound Expression- An expressionn having more than one expressin is called compound expression."
   ]
  },
  {
   "cell_type": "raw",
   "metadata": {},
   "source": [
    "Q5. This assignment statements, like spam = 10. What is the difference between an expression and a statement?\n",
    "Ans- EXPRESSION- 1. Expression always return value\n",
    "                 2. can print the result value\n",
    "                 3. example- \"Name\" +  \"surname\"\n",
    "     STATEMENT-  1. Statement never return value\n",
    "                 2. cannot print any result\n",
    "                 3. example- loops,import, pass,classes etc."
   ]
  },
  {
   "cell_type": "raw",
   "metadata": {},
   "source": [
    "Q6. After running the following code, what does the variable bacon contain?\n",
    "bacon = 22\n",
    "bacon + 1\n",
    "Ans- value of bocon is 23"
   ]
  },
  {
   "cell_type": "raw",
   "metadata": {},
   "source": [
    "Q7. What should the values of the following two terms be?\n",
    "'spam' + 'spamspam'\n",
    "'spam'* 3\n",
    "Ans- the output will be same for both statement \n",
    "'spamspamspam'"
   ]
  },
  {
   "cell_type": "raw",
   "metadata": {},
   "source": [
    "Q8. Why is eggs a valid variable name while 100 is invalid?\n",
    "Ans - eggs are valid variable name while 100 not because always variable name start with alphabet not with integer "
   ]
  },
  {
   "cell_type": "raw",
   "metadata": {},
   "source": [
    "Q9. What three functions can be used to get the integer, floating-point number, or string version of a value?\n",
    "Ans - for string --str()\n",
    "      for floating-point--float()\n",
    "      for integer--int()"
   ]
  },
  {
   "cell_type": "raw",
   "metadata": {},
   "source": [
    "Q10. Why does this expression cause an error? How can you fix it?\n",
    "'I have eaten' + 99 + 'burritos'\n",
    "Ans- this expression cause error because 99 is integer and we can't add integer with string . To resolve this error we convert int into string. by two ways\n",
    "\n",
    "1. either we take 99 in quotes '99'.\n",
    "2. either we use str(99)"
   ]
  }
 ],
 "metadata": {
  "kernelspec": {
   "display_name": "Python 3",
   "language": "python",
   "name": "python3"
  },
  "language_info": {
   "codemirror_mode": {
    "name": "ipython",
    "version": 3
   },
   "file_extension": ".py",
   "mimetype": "text/x-python",
   "name": "python",
   "nbconvert_exporter": "python",
   "pygments_lexer": "ipython3",
   "version": "3.8.5"
  }
 },
 "nbformat": 4,
 "nbformat_minor": 4
}
